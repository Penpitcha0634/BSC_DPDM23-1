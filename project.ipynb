{
  "nbformat": 4,
  "nbformat_minor": 0,
  "metadata": {
    "colab": {
      "provenance": [],
      "include_colab_link": true
    },
    "kernelspec": {
      "name": "python3",
      "display_name": "Python 3"
    },
    "language_info": {
      "name": "python"
    }
  },
  "cells": [
    {
      "cell_type": "markdown",
      "metadata": {
        "id": "view-in-github",
        "colab_type": "text"
      },
      "source": [
        "<a href=\"https://colab.research.google.com/github/Thewaiii/BSC_DPDM23/blob/main/project.ipynb\" target=\"_parent\"><img src=\"https://colab.research.google.com/assets/colab-badge.svg\" alt=\"Open In Colab\"/></a>"
      ]
    },
    {
      "cell_type": "code",
      "source": [
        "from google.colab import drive\n",
        "drive.mount('/content/drive')"
      ],
      "metadata": {
        "colab": {
          "base_uri": "https://localhost:8080/"
        },
        "id": "OfQilW_xbEHi",
        "outputId": "829227ec-fbb9-4f4a-ed82-4d6a82781c3b"
      },
      "execution_count": null,
      "outputs": [
        {
          "output_type": "stream",
          "name": "stdout",
          "text": [
            "Drive already mounted at /content/drive; to attempt to forcibly remount, call drive.mount(\"/content/drive\", force_remount=True).\n"
          ]
        }
      ]
    },
    {
      "cell_type": "code",
      "source": [
        "import pandas as pd\n",
        "import numpy as np"
      ],
      "metadata": {
        "id": "SGGOwPHZbcGU"
      },
      "execution_count": null,
      "outputs": []
    },
    {
      "cell_type": "code",
      "source": [
        "data_65=pd.read_excel(\"/content/drive/MyDrive/BSC-dpdm23_flie/project/accidentmonth.xlsx\")\n",
        "data_64=pd.read_excel(\"/content/drive/MyDrive/BSC-dpdm23_flie/project/kh-muul-ubatiehtubnthaangphiess-piingbpramaan-2564-t-kh-63-k-y-64.xlsx\")\n",
        "data_63=pd.read_excel(\"/content/drive/MyDrive/BSC-dpdm23_flie/project/kh-muul-ubatiehtubnthaangphiess-piingbpramaan-2563-t-kh-62-k-y-63.xlsx\")\n",
        "data_62=pd.read_excel(\"/content/drive/MyDrive/BSC-dpdm23_flie/project/kh-muul-ubatiehtubnthaangphiess-piingbpramaan-2562-t-kh-61-k-y-62.xlsx\")\n",
        "data_61=pd.read_excel(\"/content/drive/MyDrive/BSC-dpdm23_flie/project/kh-muul-ubatiehtubnthaangphiess-piingbpramaan-2561-t-kh-60-k-y-61.xlsx\")\n",
        "data_60=pd.read_excel(\"/content/drive/MyDrive/BSC-dpdm23_flie/project/kh-muul-ubatiehtubnthaangphiess-piingbpramaan-2560-t-kh-59-k-y-60.xlsx\")\n",
        "data_59=pd.read_excel(\"/content/drive/MyDrive/BSC-dpdm23_flie/project/kh-muul-ubatiehtubnthaangphiess-piingbpramaan-2559-t-kh-58-k-y-59.xlsx\")\n",
        "data_more=pd.read_excel('/content/drive/MyDrive/BSC-dpdm23_flie/project/moredata.xlsx')"
      ],
      "metadata": {
        "id": "7hM9Q5FXfRge"
      },
      "execution_count": null,
      "outputs": []
    },
    {
      "cell_type": "code",
      "source": [
        "data_65.isnull().any()"
      ],
      "metadata": {
        "colab": {
          "base_uri": "https://localhost:8080/"
        },
        "id": "kO-uPlqGiCU9",
        "outputId": "d492cfac-a770-44b4-d4ec-793bbbcdd79a"
      },
      "execution_count": null,
      "outputs": [
        {
          "output_type": "execute_result",
          "data": {
            "text/plain": [
              "accident_date    False\n",
              "accident_time    False\n",
              "expw_step        False\n",
              "weather_state    False\n",
              "injur_man        False\n",
              "injur_femel      False\n",
              "dead_man         False\n",
              "dead_femel       False\n",
              "cause            False\n",
              "dtype: bool"
            ]
          },
          "metadata": {},
          "execution_count": 609
        }
      ]
    },
    {
      "cell_type": "code",
      "source": [
        "data_64.isnull().any()"
      ],
      "metadata": {
        "colab": {
          "base_uri": "https://localhost:8080/"
        },
        "id": "i2jPr61ciSIN",
        "outputId": "16051285-2cb4-4be9-c08a-5b0b666ad286"
      },
      "execution_count": null,
      "outputs": [
        {
          "output_type": "execute_result",
          "data": {
            "text/plain": [
              "accident_date    False\n",
              "accident_time    False\n",
              "step             False\n",
              "ad_state         False\n",
              "acman_rec        False\n",
              "acfem_rec        False\n",
              "deadman_rec      False\n",
              "deadfem_rec      False\n",
              "cause_type       False\n",
              "dtype: bool"
            ]
          },
          "metadata": {},
          "execution_count": 610
        }
      ]
    },
    {
      "cell_type": "code",
      "source": [
        "data_63.isnull().any()"
      ],
      "metadata": {
        "colab": {
          "base_uri": "https://localhost:8080/"
        },
        "id": "Gw68AImDiUgV",
        "outputId": "872d8bfc-c4b2-4bd0-b22e-f59c1a8e106a"
      },
      "execution_count": null,
      "outputs": [
        {
          "output_type": "execute_result",
          "data": {
            "text/plain": [
              "accident_date    False\n",
              "accident_time    False\n",
              "expw_step        False\n",
              "weather_state    False\n",
              "injur_man        False\n",
              "injur_femel      False\n",
              "dead_man         False\n",
              "dead_femel       False\n",
              "cause            False\n",
              "dtype: bool"
            ]
          },
          "metadata": {},
          "execution_count": 611
        }
      ]
    },
    {
      "cell_type": "code",
      "source": [
        "data_62.isnull().any()"
      ],
      "metadata": {
        "colab": {
          "base_uri": "https://localhost:8080/"
        },
        "id": "W5xt7OwKiUy7",
        "outputId": "4c3aa185-e15e-469a-ab11-000fef6ddcf0"
      },
      "execution_count": null,
      "outputs": [
        {
          "output_type": "execute_result",
          "data": {
            "text/plain": [
              "accident_date    False\n",
              "accident_time    False\n",
              "expw_step        False\n",
              "weather_state    False\n",
              "injur_man        False\n",
              "injur_femel      False\n",
              "dead_man         False\n",
              "dead_femel       False\n",
              "cause            False\n",
              "dtype: bool"
            ]
          },
          "metadata": {},
          "execution_count": 612
        }
      ]
    },
    {
      "cell_type": "code",
      "source": [
        "data_61.isnull().any()"
      ],
      "metadata": {
        "colab": {
          "base_uri": "https://localhost:8080/"
        },
        "id": "evRMMtPuiVQE",
        "outputId": "81dfa23c-13d1-4b16-fe5f-3c629a134fb7"
      },
      "execution_count": null,
      "outputs": [
        {
          "output_type": "execute_result",
          "data": {
            "text/plain": [
              "accident_date    False\n",
              "accident_time    False\n",
              "expw_step        False\n",
              "weather_state    False\n",
              "injur_man        False\n",
              "injur_femel      False\n",
              "dead_man         False\n",
              "dead_femel       False\n",
              "cause            False\n",
              "dtype: bool"
            ]
          },
          "metadata": {},
          "execution_count": 613
        }
      ]
    },
    {
      "cell_type": "code",
      "source": [
        "data_60.isnull().any()"
      ],
      "metadata": {
        "colab": {
          "base_uri": "https://localhost:8080/"
        },
        "id": "TYgEgsx7iVqs",
        "outputId": "65bd933c-4315-4202-d5ce-f9a062e2c604"
      },
      "execution_count": null,
      "outputs": [
        {
          "output_type": "execute_result",
          "data": {
            "text/plain": [
              "accident_date    False\n",
              "accident_time    False\n",
              "expw_step        False\n",
              "weather_state    False\n",
              "injur_man        False\n",
              "injur_femel      False\n",
              "dead_man         False\n",
              "dead_femel       False\n",
              "cause            False\n",
              "dtype: bool"
            ]
          },
          "metadata": {},
          "execution_count": 614
        }
      ]
    },
    {
      "cell_type": "code",
      "source": [
        "data_59.isnull().any()"
      ],
      "metadata": {
        "colab": {
          "base_uri": "https://localhost:8080/"
        },
        "id": "y_-2-1k_iWH8",
        "outputId": "960fcc15-6f3a-4dc0-9036-1aa4b6cb8937"
      },
      "execution_count": null,
      "outputs": [
        {
          "output_type": "execute_result",
          "data": {
            "text/plain": [
              "accident_date    False\n",
              "accident_time    False\n",
              "expw_step        False\n",
              "weather_state    False\n",
              "injur_man        False\n",
              "injur_femel      False\n",
              "dead_man         False\n",
              "dead_femel       False\n",
              "cause            False\n",
              "dtype: bool"
            ]
          },
          "metadata": {},
          "execution_count": 615
        }
      ]
    },
    {
      "cell_type": "markdown",
      "source": [
        "## concat ครั้งที่1\n",
        "พบว่ามีบ้าง ปีที่ชื่อ column ไม่ตรงกับตารางอื่นๆ"
      ],
      "metadata": {
        "id": "KT-o9VAimzJT"
      }
    },
    {
      "cell_type": "code",
      "source": [
        "pd.concat([data_59,data_60,data_61,data_62,data_63,data_64,data_65]).head()"
      ],
      "metadata": {
        "colab": {
          "base_uri": "https://localhost:8080/",
          "height": 276
        },
        "id": "ZB3NlMh1it8N",
        "outputId": "282ed322-739d-4568-bc9f-5f6b1723922b"
      },
      "execution_count": null,
      "outputs": [
        {
          "output_type": "execute_result",
          "data": {
            "text/plain": [
              "  accident_date accident_time expw_step weather_state  injur_man  injur_femel  \\\n",
              "0    2016-03-15      07:23:23    ศรีรัช          ปกติ        0.0          0.0   \n",
              "1    2016-07-27      12:22:22    ศรีรัช          ปกติ        0.0          0.0   \n",
              "2    2015-12-09      14:40:40    ศรีรัช          ปกติ        0.0          0.0   \n",
              "3    2016-08-20      17:01:01    ศรีรัช          ปกติ        0.0          0.0   \n",
              "4    2016-04-23      09:18:18    ศรีรัช          ปกติ        0.0          0.0   \n",
              "\n",
              "   dead_man  dead_femel                      cause step ad_state  acman_rec  \\\n",
              "0       0.0         0.0                โรคประจำตัว  NaN      NaN        NaN   \n",
              "1       0.0         0.0                          -  NaN      NaN        NaN   \n",
              "2       0.0         0.0  ทำโทรศัพย์หล่นแล้วก้มหยิบ  NaN      NaN        NaN   \n",
              "3       0.0         0.0                ก้มหยิบเงิน  NaN      NaN        NaN   \n",
              "4       0.0         0.0                 บรรทุกหนัก  NaN      NaN        NaN   \n",
              "\n",
              "   acfem_rec  deadman_rec  deadfem_rec cause_type  \n",
              "0        NaN          NaN          NaN        NaN  \n",
              "1        NaN          NaN          NaN        NaN  \n",
              "2        NaN          NaN          NaN        NaN  \n",
              "3        NaN          NaN          NaN        NaN  \n",
              "4        NaN          NaN          NaN        NaN  "
            ],
            "text/html": [
              "\n",
              "  <div id=\"df-ab367548-7a3b-48cc-bff2-c788b2e5093f\" class=\"colab-df-container\">\n",
              "    <div>\n",
              "<style scoped>\n",
              "    .dataframe tbody tr th:only-of-type {\n",
              "        vertical-align: middle;\n",
              "    }\n",
              "\n",
              "    .dataframe tbody tr th {\n",
              "        vertical-align: top;\n",
              "    }\n",
              "\n",
              "    .dataframe thead th {\n",
              "        text-align: right;\n",
              "    }\n",
              "</style>\n",
              "<table border=\"1\" class=\"dataframe\">\n",
              "  <thead>\n",
              "    <tr style=\"text-align: right;\">\n",
              "      <th></th>\n",
              "      <th>accident_date</th>\n",
              "      <th>accident_time</th>\n",
              "      <th>expw_step</th>\n",
              "      <th>weather_state</th>\n",
              "      <th>injur_man</th>\n",
              "      <th>injur_femel</th>\n",
              "      <th>dead_man</th>\n",
              "      <th>dead_femel</th>\n",
              "      <th>cause</th>\n",
              "      <th>step</th>\n",
              "      <th>ad_state</th>\n",
              "      <th>acman_rec</th>\n",
              "      <th>acfem_rec</th>\n",
              "      <th>deadman_rec</th>\n",
              "      <th>deadfem_rec</th>\n",
              "      <th>cause_type</th>\n",
              "    </tr>\n",
              "  </thead>\n",
              "  <tbody>\n",
              "    <tr>\n",
              "      <th>0</th>\n",
              "      <td>2016-03-15</td>\n",
              "      <td>07:23:23</td>\n",
              "      <td>ศรีรัช</td>\n",
              "      <td>ปกติ</td>\n",
              "      <td>0.0</td>\n",
              "      <td>0.0</td>\n",
              "      <td>0.0</td>\n",
              "      <td>0.0</td>\n",
              "      <td>โรคประจำตัว</td>\n",
              "      <td>NaN</td>\n",
              "      <td>NaN</td>\n",
              "      <td>NaN</td>\n",
              "      <td>NaN</td>\n",
              "      <td>NaN</td>\n",
              "      <td>NaN</td>\n",
              "      <td>NaN</td>\n",
              "    </tr>\n",
              "    <tr>\n",
              "      <th>1</th>\n",
              "      <td>2016-07-27</td>\n",
              "      <td>12:22:22</td>\n",
              "      <td>ศรีรัช</td>\n",
              "      <td>ปกติ</td>\n",
              "      <td>0.0</td>\n",
              "      <td>0.0</td>\n",
              "      <td>0.0</td>\n",
              "      <td>0.0</td>\n",
              "      <td>-</td>\n",
              "      <td>NaN</td>\n",
              "      <td>NaN</td>\n",
              "      <td>NaN</td>\n",
              "      <td>NaN</td>\n",
              "      <td>NaN</td>\n",
              "      <td>NaN</td>\n",
              "      <td>NaN</td>\n",
              "    </tr>\n",
              "    <tr>\n",
              "      <th>2</th>\n",
              "      <td>2015-12-09</td>\n",
              "      <td>14:40:40</td>\n",
              "      <td>ศรีรัช</td>\n",
              "      <td>ปกติ</td>\n",
              "      <td>0.0</td>\n",
              "      <td>0.0</td>\n",
              "      <td>0.0</td>\n",
              "      <td>0.0</td>\n",
              "      <td>ทำโทรศัพย์หล่นแล้วก้มหยิบ</td>\n",
              "      <td>NaN</td>\n",
              "      <td>NaN</td>\n",
              "      <td>NaN</td>\n",
              "      <td>NaN</td>\n",
              "      <td>NaN</td>\n",
              "      <td>NaN</td>\n",
              "      <td>NaN</td>\n",
              "    </tr>\n",
              "    <tr>\n",
              "      <th>3</th>\n",
              "      <td>2016-08-20</td>\n",
              "      <td>17:01:01</td>\n",
              "      <td>ศรีรัช</td>\n",
              "      <td>ปกติ</td>\n",
              "      <td>0.0</td>\n",
              "      <td>0.0</td>\n",
              "      <td>0.0</td>\n",
              "      <td>0.0</td>\n",
              "      <td>ก้มหยิบเงิน</td>\n",
              "      <td>NaN</td>\n",
              "      <td>NaN</td>\n",
              "      <td>NaN</td>\n",
              "      <td>NaN</td>\n",
              "      <td>NaN</td>\n",
              "      <td>NaN</td>\n",
              "      <td>NaN</td>\n",
              "    </tr>\n",
              "    <tr>\n",
              "      <th>4</th>\n",
              "      <td>2016-04-23</td>\n",
              "      <td>09:18:18</td>\n",
              "      <td>ศรีรัช</td>\n",
              "      <td>ปกติ</td>\n",
              "      <td>0.0</td>\n",
              "      <td>0.0</td>\n",
              "      <td>0.0</td>\n",
              "      <td>0.0</td>\n",
              "      <td>บรรทุกหนัก</td>\n",
              "      <td>NaN</td>\n",
              "      <td>NaN</td>\n",
              "      <td>NaN</td>\n",
              "      <td>NaN</td>\n",
              "      <td>NaN</td>\n",
              "      <td>NaN</td>\n",
              "      <td>NaN</td>\n",
              "    </tr>\n",
              "  </tbody>\n",
              "</table>\n",
              "</div>\n",
              "    <div class=\"colab-df-buttons\">\n",
              "\n",
              "  <div class=\"colab-df-container\">\n",
              "    <button class=\"colab-df-convert\" onclick=\"convertToInteractive('df-ab367548-7a3b-48cc-bff2-c788b2e5093f')\"\n",
              "            title=\"Convert this dataframe to an interactive table.\"\n",
              "            style=\"display:none;\">\n",
              "\n",
              "  <svg xmlns=\"http://www.w3.org/2000/svg\" height=\"24px\" viewBox=\"0 -960 960 960\">\n",
              "    <path d=\"M120-120v-720h720v720H120Zm60-500h600v-160H180v160Zm220 220h160v-160H400v160Zm0 220h160v-160H400v160ZM180-400h160v-160H180v160Zm440 0h160v-160H620v160ZM180-180h160v-160H180v160Zm440 0h160v-160H620v160Z\"/>\n",
              "  </svg>\n",
              "    </button>\n",
              "\n",
              "  <style>\n",
              "    .colab-df-container {\n",
              "      display:flex;\n",
              "      gap: 12px;\n",
              "    }\n",
              "\n",
              "    .colab-df-convert {\n",
              "      background-color: #E8F0FE;\n",
              "      border: none;\n",
              "      border-radius: 50%;\n",
              "      cursor: pointer;\n",
              "      display: none;\n",
              "      fill: #1967D2;\n",
              "      height: 32px;\n",
              "      padding: 0 0 0 0;\n",
              "      width: 32px;\n",
              "    }\n",
              "\n",
              "    .colab-df-convert:hover {\n",
              "      background-color: #E2EBFA;\n",
              "      box-shadow: 0px 1px 2px rgba(60, 64, 67, 0.3), 0px 1px 3px 1px rgba(60, 64, 67, 0.15);\n",
              "      fill: #174EA6;\n",
              "    }\n",
              "\n",
              "    .colab-df-buttons div {\n",
              "      margin-bottom: 4px;\n",
              "    }\n",
              "\n",
              "    [theme=dark] .colab-df-convert {\n",
              "      background-color: #3B4455;\n",
              "      fill: #D2E3FC;\n",
              "    }\n",
              "\n",
              "    [theme=dark] .colab-df-convert:hover {\n",
              "      background-color: #434B5C;\n",
              "      box-shadow: 0px 1px 3px 1px rgba(0, 0, 0, 0.15);\n",
              "      filter: drop-shadow(0px 1px 2px rgba(0, 0, 0, 0.3));\n",
              "      fill: #FFFFFF;\n",
              "    }\n",
              "  </style>\n",
              "\n",
              "    <script>\n",
              "      const buttonEl =\n",
              "        document.querySelector('#df-ab367548-7a3b-48cc-bff2-c788b2e5093f button.colab-df-convert');\n",
              "      buttonEl.style.display =\n",
              "        google.colab.kernel.accessAllowed ? 'block' : 'none';\n",
              "\n",
              "      async function convertToInteractive(key) {\n",
              "        const element = document.querySelector('#df-ab367548-7a3b-48cc-bff2-c788b2e5093f');\n",
              "        const dataTable =\n",
              "          await google.colab.kernel.invokeFunction('convertToInteractive',\n",
              "                                                    [key], {});\n",
              "        if (!dataTable) return;\n",
              "\n",
              "        const docLinkHtml = 'Like what you see? Visit the ' +\n",
              "          '<a target=\"_blank\" href=https://colab.research.google.com/notebooks/data_table.ipynb>data table notebook</a>'\n",
              "          + ' to learn more about interactive tables.';\n",
              "        element.innerHTML = '';\n",
              "        dataTable['output_type'] = 'display_data';\n",
              "        await google.colab.output.renderOutput(dataTable, element);\n",
              "        const docLink = document.createElement('div');\n",
              "        docLink.innerHTML = docLinkHtml;\n",
              "        element.appendChild(docLink);\n",
              "      }\n",
              "    </script>\n",
              "  </div>\n",
              "\n",
              "\n",
              "<div id=\"df-2cff363c-829d-4e05-907a-9a396d6ea4a4\">\n",
              "  <button class=\"colab-df-quickchart\" onclick=\"quickchart('df-2cff363c-829d-4e05-907a-9a396d6ea4a4')\"\n",
              "            title=\"Suggest charts\"\n",
              "            style=\"display:none;\">\n",
              "\n",
              "<svg xmlns=\"http://www.w3.org/2000/svg\" height=\"24px\"viewBox=\"0 0 24 24\"\n",
              "     width=\"24px\">\n",
              "    <g>\n",
              "        <path d=\"M19 3H5c-1.1 0-2 .9-2 2v14c0 1.1.9 2 2 2h14c1.1 0 2-.9 2-2V5c0-1.1-.9-2-2-2zM9 17H7v-7h2v7zm4 0h-2V7h2v10zm4 0h-2v-4h2v4z\"/>\n",
              "    </g>\n",
              "</svg>\n",
              "  </button>\n",
              "\n",
              "<style>\n",
              "  .colab-df-quickchart {\n",
              "      --bg-color: #E8F0FE;\n",
              "      --fill-color: #1967D2;\n",
              "      --hover-bg-color: #E2EBFA;\n",
              "      --hover-fill-color: #174EA6;\n",
              "      --disabled-fill-color: #AAA;\n",
              "      --disabled-bg-color: #DDD;\n",
              "  }\n",
              "\n",
              "  [theme=dark] .colab-df-quickchart {\n",
              "      --bg-color: #3B4455;\n",
              "      --fill-color: #D2E3FC;\n",
              "      --hover-bg-color: #434B5C;\n",
              "      --hover-fill-color: #FFFFFF;\n",
              "      --disabled-bg-color: #3B4455;\n",
              "      --disabled-fill-color: #666;\n",
              "  }\n",
              "\n",
              "  .colab-df-quickchart {\n",
              "    background-color: var(--bg-color);\n",
              "    border: none;\n",
              "    border-radius: 50%;\n",
              "    cursor: pointer;\n",
              "    display: none;\n",
              "    fill: var(--fill-color);\n",
              "    height: 32px;\n",
              "    padding: 0;\n",
              "    width: 32px;\n",
              "  }\n",
              "\n",
              "  .colab-df-quickchart:hover {\n",
              "    background-color: var(--hover-bg-color);\n",
              "    box-shadow: 0 1px 2px rgba(60, 64, 67, 0.3), 0 1px 3px 1px rgba(60, 64, 67, 0.15);\n",
              "    fill: var(--button-hover-fill-color);\n",
              "  }\n",
              "\n",
              "  .colab-df-quickchart-complete:disabled,\n",
              "  .colab-df-quickchart-complete:disabled:hover {\n",
              "    background-color: var(--disabled-bg-color);\n",
              "    fill: var(--disabled-fill-color);\n",
              "    box-shadow: none;\n",
              "  }\n",
              "\n",
              "  .colab-df-spinner {\n",
              "    border: 2px solid var(--fill-color);\n",
              "    border-color: transparent;\n",
              "    border-bottom-color: var(--fill-color);\n",
              "    animation:\n",
              "      spin 1s steps(1) infinite;\n",
              "  }\n",
              "\n",
              "  @keyframes spin {\n",
              "    0% {\n",
              "      border-color: transparent;\n",
              "      border-bottom-color: var(--fill-color);\n",
              "      border-left-color: var(--fill-color);\n",
              "    }\n",
              "    20% {\n",
              "      border-color: transparent;\n",
              "      border-left-color: var(--fill-color);\n",
              "      border-top-color: var(--fill-color);\n",
              "    }\n",
              "    30% {\n",
              "      border-color: transparent;\n",
              "      border-left-color: var(--fill-color);\n",
              "      border-top-color: var(--fill-color);\n",
              "      border-right-color: var(--fill-color);\n",
              "    }\n",
              "    40% {\n",
              "      border-color: transparent;\n",
              "      border-right-color: var(--fill-color);\n",
              "      border-top-color: var(--fill-color);\n",
              "    }\n",
              "    60% {\n",
              "      border-color: transparent;\n",
              "      border-right-color: var(--fill-color);\n",
              "    }\n",
              "    80% {\n",
              "      border-color: transparent;\n",
              "      border-right-color: var(--fill-color);\n",
              "      border-bottom-color: var(--fill-color);\n",
              "    }\n",
              "    90% {\n",
              "      border-color: transparent;\n",
              "      border-bottom-color: var(--fill-color);\n",
              "    }\n",
              "  }\n",
              "</style>\n",
              "\n",
              "  <script>\n",
              "    async function quickchart(key) {\n",
              "      const quickchartButtonEl =\n",
              "        document.querySelector('#' + key + ' button');\n",
              "      quickchartButtonEl.disabled = true;  // To prevent multiple clicks.\n",
              "      quickchartButtonEl.classList.add('colab-df-spinner');\n",
              "      try {\n",
              "        const charts = await google.colab.kernel.invokeFunction(\n",
              "            'suggestCharts', [key], {});\n",
              "      } catch (error) {\n",
              "        console.error('Error during call to suggestCharts:', error);\n",
              "      }\n",
              "      quickchartButtonEl.classList.remove('colab-df-spinner');\n",
              "      quickchartButtonEl.classList.add('colab-df-quickchart-complete');\n",
              "    }\n",
              "    (() => {\n",
              "      let quickchartButtonEl =\n",
              "        document.querySelector('#df-2cff363c-829d-4e05-907a-9a396d6ea4a4 button');\n",
              "      quickchartButtonEl.style.display =\n",
              "        google.colab.kernel.accessAllowed ? 'block' : 'none';\n",
              "    })();\n",
              "  </script>\n",
              "</div>\n",
              "    </div>\n",
              "  </div>\n"
            ],
            "application/vnd.google.colaboratory.intrinsic+json": {
              "type": "dataframe",
              "repr_error": "'str' object has no attribute 'empty'"
            }
          },
          "metadata": {},
          "execution_count": 616
        }
      ]
    },
    {
      "cell_type": "code",
      "source": [
        "data_59.columns"
      ],
      "metadata": {
        "colab": {
          "base_uri": "https://localhost:8080/"
        },
        "id": "-xJQzbqIk9My",
        "outputId": "bbaf0ed4-4b83-4dc4-ef3f-c438bd1dbf83"
      },
      "execution_count": null,
      "outputs": [
        {
          "output_type": "execute_result",
          "data": {
            "text/plain": [
              "Index(['accident_date', 'accident_time', 'expw_step', 'weather_state',\n",
              "       'injur_man', 'injur_femel', 'dead_man', 'dead_femel', 'cause'],\n",
              "      dtype='object')"
            ]
          },
          "metadata": {},
          "execution_count": 617
        }
      ]
    },
    {
      "cell_type": "code",
      "source": [
        "data_60.columns"
      ],
      "metadata": {
        "colab": {
          "base_uri": "https://localhost:8080/"
        },
        "id": "C8FT7ov6lAs8",
        "outputId": "7f5ddb80-f631-4ab3-ffca-636a37a381b7"
      },
      "execution_count": null,
      "outputs": [
        {
          "output_type": "execute_result",
          "data": {
            "text/plain": [
              "Index(['accident_date', 'accident_time', 'expw_step', 'weather_state',\n",
              "       'injur_man', 'injur_femel', 'dead_man', 'dead_femel', 'cause'],\n",
              "      dtype='object')"
            ]
          },
          "metadata": {},
          "execution_count": 618
        }
      ]
    },
    {
      "cell_type": "code",
      "source": [
        "data_61.columns"
      ],
      "metadata": {
        "colab": {
          "base_uri": "https://localhost:8080/"
        },
        "id": "y7sRWR9DlETI",
        "outputId": "383d26d4-0ea1-4340-d818-185147264df1"
      },
      "execution_count": null,
      "outputs": [
        {
          "output_type": "execute_result",
          "data": {
            "text/plain": [
              "Index(['accident_date', 'accident_time', 'expw_step', 'weather_state',\n",
              "       'injur_man', 'injur_femel', 'dead_man', 'dead_femel', 'cause'],\n",
              "      dtype='object')"
            ]
          },
          "metadata": {},
          "execution_count": 619
        }
      ]
    },
    {
      "cell_type": "code",
      "source": [
        "data_62.columns"
      ],
      "metadata": {
        "colab": {
          "base_uri": "https://localhost:8080/"
        },
        "id": "IAZWVdjhlHV8",
        "outputId": "03e901e8-04d0-4283-e904-42eb4f7f654c"
      },
      "execution_count": null,
      "outputs": [
        {
          "output_type": "execute_result",
          "data": {
            "text/plain": [
              "Index(['accident_date', 'accident_time', 'expw_step', 'weather_state',\n",
              "       'injur_man', 'injur_femel', 'dead_man', 'dead_femel', 'cause'],\n",
              "      dtype='object')"
            ]
          },
          "metadata": {},
          "execution_count": 620
        }
      ]
    },
    {
      "cell_type": "code",
      "source": [
        "data_64.columns"
      ],
      "metadata": {
        "colab": {
          "base_uri": "https://localhost:8080/"
        },
        "id": "RAUiZBsamroT",
        "outputId": "3ac3b8b0-6b6a-4177-d201-856a1fae19f0"
      },
      "execution_count": null,
      "outputs": [
        {
          "output_type": "execute_result",
          "data": {
            "text/plain": [
              "Index(['accident_date', 'accident_time', 'step', 'ad_state', 'acman_rec',\n",
              "       'acfem_rec', 'deadman_rec', 'deadfem_rec', 'cause_type'],\n",
              "      dtype='object')"
            ]
          },
          "metadata": {},
          "execution_count": 621
        }
      ]
    },
    {
      "cell_type": "markdown",
      "source": [
        "# ช่วงทำความสะอาด\n"
      ],
      "metadata": {
        "id": "GxkHLc1cqZKC"
      }
    },
    {
      "cell_type": "markdown",
      "source": [
        "## เเปลงหัว column ให้เหมือนกัน"
      ],
      "metadata": {
        "id": "Zy79EK2fICbL"
      }
    },
    {
      "cell_type": "code",
      "source": [
        "data_64=data_64.rename(columns = {'step':'expw_step','ad_state':'weather_state','acman_rec':'injur_man','acfem_rec':'injur_femel'\n",
        ",'deadman_rec':'dead_man','deadfem_rec':'dead_femel','cause_type':'cause'})"
      ],
      "metadata": {
        "id": "2qcar8AAmut7"
      },
      "execution_count": null,
      "outputs": []
    },
    {
      "cell_type": "code",
      "source": [
        "use_data=pd.concat([data_59,data_60,data_61,data_62,data_63,data_64,data_65]).reset_index().drop(\"index\",axis=1)"
      ],
      "metadata": {
        "id": "jfzbd_wjwSpS"
      },
      "execution_count": null,
      "outputs": []
    },
    {
      "cell_type": "code",
      "source": [
        "len(use_data)"
      ],
      "metadata": {
        "colab": {
          "base_uri": "https://localhost:8080/"
        },
        "id": "XpPsjf98Y7JG",
        "outputId": "85449067-707d-4de4-ad49-ffb11fb765fd"
      },
      "execution_count": null,
      "outputs": [
        {
          "output_type": "execute_result",
          "data": {
            "text/plain": [
              "6557"
            ]
          },
          "metadata": {},
          "execution_count": 624
        }
      ]
    },
    {
      "cell_type": "code",
      "source": [
        "use_data.to_excel('use_data.xlsx')"
      ],
      "metadata": {
        "id": "fjU5PG7dxkdK"
      },
      "execution_count": null,
      "outputs": []
    },
    {
      "cell_type": "code",
      "source": [
        "use_data.info()"
      ],
      "metadata": {
        "id": "OKjMZVfdr4Vj",
        "outputId": "d52158c3-0e35-4150-8a54-71c1b5a4c87f",
        "colab": {
          "base_uri": "https://localhost:8080/"
        }
      },
      "execution_count": null,
      "outputs": [
        {
          "output_type": "stream",
          "name": "stdout",
          "text": [
            "<class 'pandas.core.frame.DataFrame'>\n",
            "RangeIndex: 6557 entries, 0 to 6556\n",
            "Data columns (total 9 columns):\n",
            " #   Column         Non-Null Count  Dtype         \n",
            "---  ------         --------------  -----         \n",
            " 0   accident_date  6557 non-null   datetime64[ns]\n",
            " 1   accident_time  6557 non-null   object        \n",
            " 2   expw_step      6557 non-null   object        \n",
            " 3   weather_state  6557 non-null   object        \n",
            " 4   injur_man      6557 non-null   int64         \n",
            " 5   injur_femel    6557 non-null   int64         \n",
            " 6   dead_man       6557 non-null   int64         \n",
            " 7   dead_femel     6557 non-null   int64         \n",
            " 8   cause          6557 non-null   object        \n",
            "dtypes: datetime64[ns](1), int64(4), object(4)\n",
            "memory usage: 461.2+ KB\n"
          ]
        }
      ]
    },
    {
      "cell_type": "code",
      "source": [
        "type(use_data['accident_time'][0])"
      ],
      "metadata": {
        "id": "vw5e5nfyr8Ym",
        "outputId": "6e355ad5-857c-49ac-f59f-e8a8ce91de10",
        "colab": {
          "base_uri": "https://localhost:8080/"
        }
      },
      "execution_count": null,
      "outputs": [
        {
          "output_type": "execute_result",
          "data": {
            "text/plain": [
              "datetime.time"
            ]
          },
          "metadata": {},
          "execution_count": 627
        }
      ]
    },
    {
      "cell_type": "markdown",
      "source": [
        "## เเปลงเวลาเป็นช่วงเวลา"
      ],
      "metadata": {
        "id": "oBoujKKdruXX"
      }
    },
    {
      "cell_type": "code",
      "source": [
        "import datetime\n",
        "def time_in_range(start, end, x):\n",
        "    \"\"\"Return true if x is in the range [start, end]\"\"\"\n",
        "    if start <= end:\n",
        "        return start <= x <= end\n",
        "    else:\n",
        "        return start <= x or x <= end"
      ],
      "metadata": {
        "id": "PssrH7Hnsrcr"
      },
      "execution_count": null,
      "outputs": []
    },
    {
      "cell_type": "code",
      "source": [
        "#ยกตัวอย่าง\n",
        "start = datetime.time(6, 1, 0)\n",
        "end = datetime.time(12, 0, 0)\n",
        "time_in_range(start, end, use_data['accident_time'][0])"
      ],
      "metadata": {
        "id": "o80_zR_hswyX",
        "outputId": "e36d8ce6-c25d-49c4-a91d-90a8b552d0f6",
        "colab": {
          "base_uri": "https://localhost:8080/"
        }
      },
      "execution_count": null,
      "outputs": [
        {
          "output_type": "execute_result",
          "data": {
            "text/plain": [
              "True"
            ]
          },
          "metadata": {},
          "execution_count": 629
        }
      ]
    },
    {
      "cell_type": "code",
      "source": [
        "use_data['accident_time'][227]"
      ],
      "metadata": {
        "id": "TYxIvBQ_w_-6",
        "outputId": "05fb7877-684d-4f9b-9ed0-785a84b9a18d",
        "colab": {
          "base_uri": "https://localhost:8080/"
        }
      },
      "execution_count": null,
      "outputs": [
        {
          "output_type": "execute_result",
          "data": {
            "text/plain": [
              "datetime.time(12, 59, 59)"
            ]
          },
          "metadata": {},
          "execution_count": 630
        }
      ]
    },
    {
      "cell_type": "code",
      "source": [
        "time_lable=[]\n",
        "how =[]\n",
        "#เช้า\n",
        "start_0 = datetime.time(6, 0, 0)\n",
        "end_0 = datetime.time(12, 59, 59)\n",
        "#บ่าย\n",
        "start_1 = datetime.time(13, 0, 0)\n",
        "end_1 = datetime.time(18, 59, 59)\n",
        "#ดึก\n",
        "start_2 = datetime.time(19, 0, 0)\n",
        "end_2 = datetime.time(23, 59, 59)\n",
        "#หลังเที่ยงคืน\n",
        "start_3 = datetime.time(0, 0, 0)\n",
        "end_3 = datetime.time(5, 59, 59)\n",
        "for i in range(len(use_data['accident_time'])):\n",
        "  if time_in_range(start_0, end_0, use_data['accident_time'][i]) == True:\n",
        "    time_lable.append(0)\n",
        "  elif time_in_range(start_1, end_1, use_data['accident_time'][i]) == True:\n",
        "    time_lable.append(1)\n",
        "  elif time_in_range(start_2, end_2, use_data['accident_time'][i]) == True:\n",
        "    time_lable.append(2)\n",
        "  elif time_in_range(start_3, end_3, use_data['accident_time'][i]) == True:\n",
        "    time_lable.append(3)\n",
        "  else:\n",
        "    how.append(i)\n",
        "how"
      ],
      "metadata": {
        "id": "xdKhgohsqe02",
        "outputId": "2e5a37ce-485c-4616-bfa6-d9c6410f9e54",
        "colab": {
          "base_uri": "https://localhost:8080/"
        }
      },
      "execution_count": null,
      "outputs": [
        {
          "output_type": "execute_result",
          "data": {
            "text/plain": [
              "[]"
            ]
          },
          "metadata": {},
          "execution_count": 631
        }
      ]
    },
    {
      "cell_type": "code",
      "source": [
        "use_data['time_lable']=time_lable"
      ],
      "metadata": {
        "id": "4wBzGieEv2eC"
      },
      "execution_count": null,
      "outputs": []
    },
    {
      "cell_type": "code",
      "source": [
        "use_data.head()"
      ],
      "metadata": {
        "id": "QXeHBWSlx5EZ",
        "outputId": "6ab6fc09-2631-473d-8a18-8881e5e828f4",
        "colab": {
          "base_uri": "https://localhost:8080/",
          "height": 206
        }
      },
      "execution_count": null,
      "outputs": [
        {
          "output_type": "execute_result",
          "data": {
            "text/plain": [
              "  accident_date accident_time expw_step weather_state  injur_man  injur_femel  \\\n",
              "0    2016-03-15      07:23:23    ศรีรัช          ปกติ          0            0   \n",
              "1    2016-07-27      12:22:22    ศรีรัช          ปกติ          0            0   \n",
              "2    2015-12-09      14:40:40    ศรีรัช          ปกติ          0            0   \n",
              "3    2016-08-20      17:01:01    ศรีรัช          ปกติ          0            0   \n",
              "4    2016-04-23      09:18:18    ศรีรัช          ปกติ          0            0   \n",
              "\n",
              "   dead_man  dead_femel                      cause  time_lable  \n",
              "0         0           0                โรคประจำตัว           0  \n",
              "1         0           0                          -           0  \n",
              "2         0           0  ทำโทรศัพย์หล่นแล้วก้มหยิบ           1  \n",
              "3         0           0                ก้มหยิบเงิน           1  \n",
              "4         0           0                 บรรทุกหนัก           0  "
            ],
            "text/html": [
              "\n",
              "  <div id=\"df-b576c530-b555-40ab-812b-287a5ee521cd\" class=\"colab-df-container\">\n",
              "    <div>\n",
              "<style scoped>\n",
              "    .dataframe tbody tr th:only-of-type {\n",
              "        vertical-align: middle;\n",
              "    }\n",
              "\n",
              "    .dataframe tbody tr th {\n",
              "        vertical-align: top;\n",
              "    }\n",
              "\n",
              "    .dataframe thead th {\n",
              "        text-align: right;\n",
              "    }\n",
              "</style>\n",
              "<table border=\"1\" class=\"dataframe\">\n",
              "  <thead>\n",
              "    <tr style=\"text-align: right;\">\n",
              "      <th></th>\n",
              "      <th>accident_date</th>\n",
              "      <th>accident_time</th>\n",
              "      <th>expw_step</th>\n",
              "      <th>weather_state</th>\n",
              "      <th>injur_man</th>\n",
              "      <th>injur_femel</th>\n",
              "      <th>dead_man</th>\n",
              "      <th>dead_femel</th>\n",
              "      <th>cause</th>\n",
              "      <th>time_lable</th>\n",
              "    </tr>\n",
              "  </thead>\n",
              "  <tbody>\n",
              "    <tr>\n",
              "      <th>0</th>\n",
              "      <td>2016-03-15</td>\n",
              "      <td>07:23:23</td>\n",
              "      <td>ศรีรัช</td>\n",
              "      <td>ปกติ</td>\n",
              "      <td>0</td>\n",
              "      <td>0</td>\n",
              "      <td>0</td>\n",
              "      <td>0</td>\n",
              "      <td>โรคประจำตัว</td>\n",
              "      <td>0</td>\n",
              "    </tr>\n",
              "    <tr>\n",
              "      <th>1</th>\n",
              "      <td>2016-07-27</td>\n",
              "      <td>12:22:22</td>\n",
              "      <td>ศรีรัช</td>\n",
              "      <td>ปกติ</td>\n",
              "      <td>0</td>\n",
              "      <td>0</td>\n",
              "      <td>0</td>\n",
              "      <td>0</td>\n",
              "      <td>-</td>\n",
              "      <td>0</td>\n",
              "    </tr>\n",
              "    <tr>\n",
              "      <th>2</th>\n",
              "      <td>2015-12-09</td>\n",
              "      <td>14:40:40</td>\n",
              "      <td>ศรีรัช</td>\n",
              "      <td>ปกติ</td>\n",
              "      <td>0</td>\n",
              "      <td>0</td>\n",
              "      <td>0</td>\n",
              "      <td>0</td>\n",
              "      <td>ทำโทรศัพย์หล่นแล้วก้มหยิบ</td>\n",
              "      <td>1</td>\n",
              "    </tr>\n",
              "    <tr>\n",
              "      <th>3</th>\n",
              "      <td>2016-08-20</td>\n",
              "      <td>17:01:01</td>\n",
              "      <td>ศรีรัช</td>\n",
              "      <td>ปกติ</td>\n",
              "      <td>0</td>\n",
              "      <td>0</td>\n",
              "      <td>0</td>\n",
              "      <td>0</td>\n",
              "      <td>ก้มหยิบเงิน</td>\n",
              "      <td>1</td>\n",
              "    </tr>\n",
              "    <tr>\n",
              "      <th>4</th>\n",
              "      <td>2016-04-23</td>\n",
              "      <td>09:18:18</td>\n",
              "      <td>ศรีรัช</td>\n",
              "      <td>ปกติ</td>\n",
              "      <td>0</td>\n",
              "      <td>0</td>\n",
              "      <td>0</td>\n",
              "      <td>0</td>\n",
              "      <td>บรรทุกหนัก</td>\n",
              "      <td>0</td>\n",
              "    </tr>\n",
              "  </tbody>\n",
              "</table>\n",
              "</div>\n",
              "    <div class=\"colab-df-buttons\">\n",
              "\n",
              "  <div class=\"colab-df-container\">\n",
              "    <button class=\"colab-df-convert\" onclick=\"convertToInteractive('df-b576c530-b555-40ab-812b-287a5ee521cd')\"\n",
              "            title=\"Convert this dataframe to an interactive table.\"\n",
              "            style=\"display:none;\">\n",
              "\n",
              "  <svg xmlns=\"http://www.w3.org/2000/svg\" height=\"24px\" viewBox=\"0 -960 960 960\">\n",
              "    <path d=\"M120-120v-720h720v720H120Zm60-500h600v-160H180v160Zm220 220h160v-160H400v160Zm0 220h160v-160H400v160ZM180-400h160v-160H180v160Zm440 0h160v-160H620v160ZM180-180h160v-160H180v160Zm440 0h160v-160H620v160Z\"/>\n",
              "  </svg>\n",
              "    </button>\n",
              "\n",
              "  <style>\n",
              "    .colab-df-container {\n",
              "      display:flex;\n",
              "      gap: 12px;\n",
              "    }\n",
              "\n",
              "    .colab-df-convert {\n",
              "      background-color: #E8F0FE;\n",
              "      border: none;\n",
              "      border-radius: 50%;\n",
              "      cursor: pointer;\n",
              "      display: none;\n",
              "      fill: #1967D2;\n",
              "      height: 32px;\n",
              "      padding: 0 0 0 0;\n",
              "      width: 32px;\n",
              "    }\n",
              "\n",
              "    .colab-df-convert:hover {\n",
              "      background-color: #E2EBFA;\n",
              "      box-shadow: 0px 1px 2px rgba(60, 64, 67, 0.3), 0px 1px 3px 1px rgba(60, 64, 67, 0.15);\n",
              "      fill: #174EA6;\n",
              "    }\n",
              "\n",
              "    .colab-df-buttons div {\n",
              "      margin-bottom: 4px;\n",
              "    }\n",
              "\n",
              "    [theme=dark] .colab-df-convert {\n",
              "      background-color: #3B4455;\n",
              "      fill: #D2E3FC;\n",
              "    }\n",
              "\n",
              "    [theme=dark] .colab-df-convert:hover {\n",
              "      background-color: #434B5C;\n",
              "      box-shadow: 0px 1px 3px 1px rgba(0, 0, 0, 0.15);\n",
              "      filter: drop-shadow(0px 1px 2px rgba(0, 0, 0, 0.3));\n",
              "      fill: #FFFFFF;\n",
              "    }\n",
              "  </style>\n",
              "\n",
              "    <script>\n",
              "      const buttonEl =\n",
              "        document.querySelector('#df-b576c530-b555-40ab-812b-287a5ee521cd button.colab-df-convert');\n",
              "      buttonEl.style.display =\n",
              "        google.colab.kernel.accessAllowed ? 'block' : 'none';\n",
              "\n",
              "      async function convertToInteractive(key) {\n",
              "        const element = document.querySelector('#df-b576c530-b555-40ab-812b-287a5ee521cd');\n",
              "        const dataTable =\n",
              "          await google.colab.kernel.invokeFunction('convertToInteractive',\n",
              "                                                    [key], {});\n",
              "        if (!dataTable) return;\n",
              "\n",
              "        const docLinkHtml = 'Like what you see? Visit the ' +\n",
              "          '<a target=\"_blank\" href=https://colab.research.google.com/notebooks/data_table.ipynb>data table notebook</a>'\n",
              "          + ' to learn more about interactive tables.';\n",
              "        element.innerHTML = '';\n",
              "        dataTable['output_type'] = 'display_data';\n",
              "        await google.colab.output.renderOutput(dataTable, element);\n",
              "        const docLink = document.createElement('div');\n",
              "        docLink.innerHTML = docLinkHtml;\n",
              "        element.appendChild(docLink);\n",
              "      }\n",
              "    </script>\n",
              "  </div>\n",
              "\n",
              "\n",
              "<div id=\"df-2d5daf57-e972-4b29-aca5-183312d02fde\">\n",
              "  <button class=\"colab-df-quickchart\" onclick=\"quickchart('df-2d5daf57-e972-4b29-aca5-183312d02fde')\"\n",
              "            title=\"Suggest charts\"\n",
              "            style=\"display:none;\">\n",
              "\n",
              "<svg xmlns=\"http://www.w3.org/2000/svg\" height=\"24px\"viewBox=\"0 0 24 24\"\n",
              "     width=\"24px\">\n",
              "    <g>\n",
              "        <path d=\"M19 3H5c-1.1 0-2 .9-2 2v14c0 1.1.9 2 2 2h14c1.1 0 2-.9 2-2V5c0-1.1-.9-2-2-2zM9 17H7v-7h2v7zm4 0h-2V7h2v10zm4 0h-2v-4h2v4z\"/>\n",
              "    </g>\n",
              "</svg>\n",
              "  </button>\n",
              "\n",
              "<style>\n",
              "  .colab-df-quickchart {\n",
              "      --bg-color: #E8F0FE;\n",
              "      --fill-color: #1967D2;\n",
              "      --hover-bg-color: #E2EBFA;\n",
              "      --hover-fill-color: #174EA6;\n",
              "      --disabled-fill-color: #AAA;\n",
              "      --disabled-bg-color: #DDD;\n",
              "  }\n",
              "\n",
              "  [theme=dark] .colab-df-quickchart {\n",
              "      --bg-color: #3B4455;\n",
              "      --fill-color: #D2E3FC;\n",
              "      --hover-bg-color: #434B5C;\n",
              "      --hover-fill-color: #FFFFFF;\n",
              "      --disabled-bg-color: #3B4455;\n",
              "      --disabled-fill-color: #666;\n",
              "  }\n",
              "\n",
              "  .colab-df-quickchart {\n",
              "    background-color: var(--bg-color);\n",
              "    border: none;\n",
              "    border-radius: 50%;\n",
              "    cursor: pointer;\n",
              "    display: none;\n",
              "    fill: var(--fill-color);\n",
              "    height: 32px;\n",
              "    padding: 0;\n",
              "    width: 32px;\n",
              "  }\n",
              "\n",
              "  .colab-df-quickchart:hover {\n",
              "    background-color: var(--hover-bg-color);\n",
              "    box-shadow: 0 1px 2px rgba(60, 64, 67, 0.3), 0 1px 3px 1px rgba(60, 64, 67, 0.15);\n",
              "    fill: var(--button-hover-fill-color);\n",
              "  }\n",
              "\n",
              "  .colab-df-quickchart-complete:disabled,\n",
              "  .colab-df-quickchart-complete:disabled:hover {\n",
              "    background-color: var(--disabled-bg-color);\n",
              "    fill: var(--disabled-fill-color);\n",
              "    box-shadow: none;\n",
              "  }\n",
              "\n",
              "  .colab-df-spinner {\n",
              "    border: 2px solid var(--fill-color);\n",
              "    border-color: transparent;\n",
              "    border-bottom-color: var(--fill-color);\n",
              "    animation:\n",
              "      spin 1s steps(1) infinite;\n",
              "  }\n",
              "\n",
              "  @keyframes spin {\n",
              "    0% {\n",
              "      border-color: transparent;\n",
              "      border-bottom-color: var(--fill-color);\n",
              "      border-left-color: var(--fill-color);\n",
              "    }\n",
              "    20% {\n",
              "      border-color: transparent;\n",
              "      border-left-color: var(--fill-color);\n",
              "      border-top-color: var(--fill-color);\n",
              "    }\n",
              "    30% {\n",
              "      border-color: transparent;\n",
              "      border-left-color: var(--fill-color);\n",
              "      border-top-color: var(--fill-color);\n",
              "      border-right-color: var(--fill-color);\n",
              "    }\n",
              "    40% {\n",
              "      border-color: transparent;\n",
              "      border-right-color: var(--fill-color);\n",
              "      border-top-color: var(--fill-color);\n",
              "    }\n",
              "    60% {\n",
              "      border-color: transparent;\n",
              "      border-right-color: var(--fill-color);\n",
              "    }\n",
              "    80% {\n",
              "      border-color: transparent;\n",
              "      border-right-color: var(--fill-color);\n",
              "      border-bottom-color: var(--fill-color);\n",
              "    }\n",
              "    90% {\n",
              "      border-color: transparent;\n",
              "      border-bottom-color: var(--fill-color);\n",
              "    }\n",
              "  }\n",
              "</style>\n",
              "\n",
              "  <script>\n",
              "    async function quickchart(key) {\n",
              "      const quickchartButtonEl =\n",
              "        document.querySelector('#' + key + ' button');\n",
              "      quickchartButtonEl.disabled = true;  // To prevent multiple clicks.\n",
              "      quickchartButtonEl.classList.add('colab-df-spinner');\n",
              "      try {\n",
              "        const charts = await google.colab.kernel.invokeFunction(\n",
              "            'suggestCharts', [key], {});\n",
              "      } catch (error) {\n",
              "        console.error('Error during call to suggestCharts:', error);\n",
              "      }\n",
              "      quickchartButtonEl.classList.remove('colab-df-spinner');\n",
              "      quickchartButtonEl.classList.add('colab-df-quickchart-complete');\n",
              "    }\n",
              "    (() => {\n",
              "      let quickchartButtonEl =\n",
              "        document.querySelector('#df-2d5daf57-e972-4b29-aca5-183312d02fde button');\n",
              "      quickchartButtonEl.style.display =\n",
              "        google.colab.kernel.accessAllowed ? 'block' : 'none';\n",
              "    })();\n",
              "  </script>\n",
              "</div>\n",
              "    </div>\n",
              "  </div>\n"
            ],
            "application/vnd.google.colaboratory.intrinsic+json": {
              "type": "dataframe",
              "variable_name": "use_data",
              "summary": "{\n  \"name\": \"use_data\",\n  \"rows\": 6557,\n  \"fields\": [\n    {\n      \"column\": \"accident_date\",\n      \"properties\": {\n        \"dtype\": \"date\",\n        \"min\": \"2015-10-01 00:00:00\",\n        \"max\": \"2022-07-31 00:00:00\",\n        \"num_unique_values\": 2685,\n        \"samples\": [\n          \"2016-11-06 00:00:00\",\n          \"2018-04-09 00:00:00\",\n          \"2017-01-28 00:00:00\"\n        ],\n        \"semantic_type\": \"\",\n        \"description\": \"\"\n      }\n    },\n    {\n      \"column\": \"accident_time\",\n      \"properties\": {\n        \"dtype\": \"category\",\n        \"num_unique_values\": 1405,\n        \"samples\": [\n          \"02:19:19\",\n          \"04:43:43\",\n          \"05:18:18\"\n        ],\n        \"semantic_type\": \"\",\n        \"description\": \"\"\n      }\n    },\n    {\n      \"column\": \"expw_step\",\n      \"properties\": {\n        \"dtype\": \"category\",\n        \"num_unique_values\": 9,\n        \"samples\": [\n          \"\\u0e28\\u0e23\\u0e35\\u0e23\\u0e31\\u0e0a-\\u0e27\\u0e07\\u0e41\\u0e2b\\u0e27\\u0e19\\u0e23\\u0e2d\\u0e1a\\u0e19\\u0e2d\\u0e01\",\n          \"\\u0e09\\u0e25\\u0e2d\\u0e07\\u0e23\\u0e31\\u0e0a\",\n          \"\\u0e1a\\u0e32\\u0e07\\u0e1e\\u0e25\\u0e35-\\u0e2a\\u0e38\\u0e02\\u0e2a\\u0e27\\u0e31\\u0e2a\\u0e14\\u0e34\\u0e4c\"\n        ],\n        \"semantic_type\": \"\",\n        \"description\": \"\"\n      }\n    },\n    {\n      \"column\": \"weather_state\",\n      \"properties\": {\n        \"dtype\": \"category\",\n        \"num_unique_values\": 8,\n        \"samples\": [\n          \"\\u0e1d\\u0e19\\u0e15\\u0e01\",\n          \"\\u0e17\\u0e49\\u0e2d\\u0e07\\u0e1f\\u0e49\\u0e32\\u0e21\\u0e37\\u0e14\\u0e04\\u0e23\\u0e36\\u0e49\\u0e21\",\n          \"\\u0e1b\\u0e01\\u0e15\\u0e34\"\n        ],\n        \"semantic_type\": \"\",\n        \"description\": \"\"\n      }\n    },\n    {\n      \"column\": \"injur_man\",\n      \"properties\": {\n        \"dtype\": \"number\",\n        \"std\": 0,\n        \"min\": 0,\n        \"max\": 8,\n        \"num_unique_values\": 9,\n        \"samples\": [\n          7,\n          1,\n          5\n        ],\n        \"semantic_type\": \"\",\n        \"description\": \"\"\n      }\n    },\n    {\n      \"column\": \"injur_femel\",\n      \"properties\": {\n        \"dtype\": \"number\",\n        \"std\": 0,\n        \"min\": 0,\n        \"max\": 21,\n        \"num_unique_values\": 11,\n        \"samples\": [\n          3,\n          0,\n          21\n        ],\n        \"semantic_type\": \"\",\n        \"description\": \"\"\n      }\n    },\n    {\n      \"column\": \"dead_man\",\n      \"properties\": {\n        \"dtype\": \"number\",\n        \"std\": 0,\n        \"min\": 0,\n        \"max\": 2,\n        \"num_unique_values\": 3,\n        \"samples\": [\n          0,\n          1,\n          2\n        ],\n        \"semantic_type\": \"\",\n        \"description\": \"\"\n      }\n    },\n    {\n      \"column\": \"dead_femel\",\n      \"properties\": {\n        \"dtype\": \"number\",\n        \"std\": 0,\n        \"min\": 0,\n        \"max\": 3,\n        \"num_unique_values\": 4,\n        \"samples\": [\n          3,\n          1,\n          0\n        ],\n        \"semantic_type\": \"\",\n        \"description\": \"\"\n      }\n    },\n    {\n      \"column\": \"cause\",\n      \"properties\": {\n        \"dtype\": \"category\",\n        \"num_unique_values\": 335,\n        \"samples\": [\n          \"\\u0e40\\u0e14\\u0e34\\u0e19\\u0e23\\u0e16\\u0e43\\u0e19\\u0e40\\u0e25\\u0e19\\u0e09\\u0e38\\u0e01\\u0e40\\u0e09\\u0e34\\u0e19\",\n          \"\\u0e1c\\u0e39\\u0e49\\u0e02\\u0e31\\u0e1a\\u0e02\\u0e35\\u0e48\\u0e2b\\u0e21\\u0e14\\u0e2a\\u0e15\\u0e34\",\n          \"\\u0e02\\u0e31\\u0e1a\\u0e23\\u0e16\\u0e40\\u0e23\\u0e47\\u0e27 \\u0e1b\\u0e23\\u0e30\\u0e21\\u0e32\\u0e17\"\n        ],\n        \"semantic_type\": \"\",\n        \"description\": \"\"\n      }\n    },\n    {\n      \"column\": \"time_lable\",\n      \"properties\": {\n        \"dtype\": \"number\",\n        \"std\": 1,\n        \"min\": 0,\n        \"max\": 3,\n        \"num_unique_values\": 4,\n        \"samples\": [\n          1,\n          2,\n          0\n        ],\n        \"semantic_type\": \"\",\n        \"description\": \"\"\n      }\n    }\n  ]\n}"
            }
          },
          "metadata": {},
          "execution_count": 633
        }
      ]
    },
    {
      "cell_type": "markdown",
      "source": [
        "## เเยกวันเดือนปี"
      ],
      "metadata": {
        "id": "De6T2rVWHfJU"
      }
    },
    {
      "cell_type": "markdown",
      "source": [
        "เเปลง strptime เป็น string"
      ],
      "metadata": {
        "id": "yW-QxuLMAI8g"
      }
    },
    {
      "cell_type": "code",
      "source": [
        "cov_time_sti =use_data['accident_date'].apply(lambda x: x.strftime(\"%Y-%m-%d %H:%M:%S\"))\n",
        "cov_time_sti[0].split()[0].split('-')"
      ],
      "metadata": {
        "colab": {
          "base_uri": "https://localhost:8080/"
        },
        "id": "9nXrwLj385ZA",
        "outputId": "72890fac-fcd0-42cd-ab82-7f25f4794381"
      },
      "execution_count": null,
      "outputs": [
        {
          "output_type": "execute_result",
          "data": {
            "text/plain": [
              "['2016', '03', '15']"
            ]
          },
          "metadata": {},
          "execution_count": 634
        }
      ]
    },
    {
      "cell_type": "code",
      "source": [
        "day=[]\n",
        "mon=[]\n",
        "year=[]\n",
        "for i in range(len(cov_time_sti)):\n",
        "  L=cov_time_sti[i].split()[0].split('-')\n",
        "  year.append(L[0])\n",
        "  mon.append(L[1])\n",
        "  day.append(L[2])"
      ],
      "metadata": {
        "id": "rDVI5XHQEv0D"
      },
      "execution_count": null,
      "outputs": []
    },
    {
      "cell_type": "code",
      "source": [
        "print(f'count_row_day = {len(day)}')\n",
        "print(f'count_row_mon = {len(mon)}')\n",
        "print(f'count_row_yeat = {len(year)}')"
      ],
      "metadata": {
        "colab": {
          "base_uri": "https://localhost:8080/"
        },
        "id": "qv7EKVaGPIrs",
        "outputId": "8dff6441-72b9-49df-cc2a-a2430752a5d0"
      },
      "execution_count": null,
      "outputs": [
        {
          "output_type": "stream",
          "name": "stdout",
          "text": [
            "count_row_day = 6557\n",
            "count_row_mon = 6557\n",
            "count_row_yeat = 6557\n"
          ]
        }
      ]
    },
    {
      "cell_type": "markdown",
      "source": [
        "## เเปลงชื่อถนนเป็น ตัวเลข"
      ],
      "metadata": {
        "id": "H6D7_bKUI1xn"
      }
    },
    {
      "cell_type": "code",
      "source": [
        "name_road=[]\n",
        "for i in range(len(use_data['expw_step'])):\n",
        "  if use_data['expw_step'][i] == 'ศรีรัช':\n",
        "    name_road.append('0')\n",
        "  elif use_data['expw_step'][i] == 'ฉลองรัช':\n",
        "    name_road.append('1')\n",
        "  elif use_data['expw_step'][i] == 'บูรพาวิถี':\n",
        "    name_road.append('2')\n",
        "  elif use_data['expw_step'][i] == 'อุดรรัถยา':\n",
        "    name_road.append('3')\n",
        "  elif use_data['expw_step'][i] == 'เฉลิมมหานคร':\n",
        "    name_road.append('4')\n",
        "  elif use_data['expw_step'][i] == 'บางพลี-สุขสวัสดิ์':\n",
        "    name_road.append('5')\n",
        "  elif use_data['expw_step'][i] == 'ทางหลวงพิเศษหมายเลข 37':\n",
        "    name_road.append('6')\n",
        "  elif use_data['expw_step'][i] == 'ศรีรัช-วงแหวนรอบนอก':\n",
        "    name_road.append('7')\n",
        "  elif use_data['expw_step'][i] == 'S1':\n",
        "    name_road.append('8')"
      ],
      "metadata": {
        "id": "0m68R4e2HZ-F"
      },
      "execution_count": null,
      "outputs": []
    },
    {
      "cell_type": "code",
      "source": [
        "len(name_road)"
      ],
      "metadata": {
        "colab": {
          "base_uri": "https://localhost:8080/"
        },
        "id": "p69cStYWO4mD",
        "outputId": "f636bb29-efd4-433a-8e03-34fb320fbf73"
      },
      "execution_count": null,
      "outputs": [
        {
          "output_type": "execute_result",
          "data": {
            "text/plain": [
              "6557"
            ]
          },
          "metadata": {},
          "execution_count": 638
        }
      ]
    },
    {
      "cell_type": "markdown",
      "source": [
        "## แปลงสถาพอากาศเป็นตัวเลข"
      ],
      "metadata": {
        "id": "6eUkVfhaOZt2"
      }
    },
    {
      "cell_type": "code",
      "source": [
        "weather_road=[]\n",
        "for i in range(len(use_data['weather_state'])):\n",
        "  if use_data['weather_state'][i] == 'ปกติ':\n",
        "    weather_road.append('0')\n",
        "  elif (use_data['weather_state'][i] == 'ฝนตก') | (use_data['weather_state'][i] == 'ท้องฟ้ามืดครึ้ม') |(use_data['weather_state'][i] == 'ฝนตกลมแรง'):\n",
        "    weather_road.append('1')\n",
        "  elif use_data['weather_state'][i] == 'กลางคืน':\n",
        "    weather_road.append('2')\n",
        "  elif (use_data['weather_state'][i] == 'ถนนเปียกรื่น') |(use_data['weather_state'][i] == 'ถนนเปียกลื่น')|(use_data['weather_state'][i] == 'ถนนเปียก') :\n",
        "    weather_road.append('3')\n",
        "  else:\n",
        "    print(i)"
      ],
      "metadata": {
        "id": "yG1a3qbMPgm4"
      },
      "execution_count": null,
      "outputs": []
    },
    {
      "cell_type": "code",
      "source": [
        "len(weather_road)"
      ],
      "metadata": {
        "colab": {
          "base_uri": "https://localhost:8080/"
        },
        "id": "XIetUmbVSHLc",
        "outputId": "6dd10a17-841e-4f8b-d08e-ec05e9b52172"
      },
      "execution_count": null,
      "outputs": [
        {
          "output_type": "execute_result",
          "data": {
            "text/plain": [
              "6557"
            ]
          },
          "metadata": {},
          "execution_count": 640
        }
      ]
    },
    {
      "cell_type": "markdown",
      "source": [
        "## เเปลงคนเจ็บเป็นตัวเลข"
      ],
      "metadata": {
        "id": "QsNKvE4LTm4P"
      }
    },
    {
      "cell_type": "code",
      "source": [
        "injur =[]\n",
        "for i in range(len(use_data['injur_man'])):\n",
        "  if (use_data['injur_man'][i] == 0 ) and (use_data['injur_femel'][i] == 0):\n",
        "    injur.append('0')\n",
        "  elif (use_data['injur_man'][i] > 0) and (use_data['injur_femel'][i] == 0):\n",
        "    injur.append('1')\n",
        "  elif (use_data['injur_man'][i] == 0) and (use_data['injur_femel'][i] > 0):\n",
        "    injur.append('2')\n",
        "  elif (use_data['injur_man'][i] > 0) and (use_data['injur_femel'][i] > 0):\n",
        "    injur.append('3')"
      ],
      "metadata": {
        "id": "8mRbfzf2SJLL"
      },
      "execution_count": null,
      "outputs": []
    },
    {
      "cell_type": "code",
      "source": [
        "len(injur)"
      ],
      "metadata": {
        "colab": {
          "base_uri": "https://localhost:8080/"
        },
        "id": "gITz0BSGTe4Q",
        "outputId": "e96698f3-c598-4911-a2ca-351329e6695d"
      },
      "execution_count": null,
      "outputs": [
        {
          "output_type": "execute_result",
          "data": {
            "text/plain": [
              "6557"
            ]
          },
          "metadata": {},
          "execution_count": 642
        }
      ]
    },
    {
      "cell_type": "code",
      "source": [
        "dead =[]\n",
        "for i in range(len(use_data['dead_man'])):\n",
        "  if (use_data['dead_man'][i] == 0 ) and (use_data['dead_femel'][i] == 0):\n",
        "    dead.append('0')\n",
        "  elif (use_data['dead_man'][i] > 0) or (use_data['dead_femel'][i] > 0):\n",
        "    dead.append('1')"
      ],
      "metadata": {
        "id": "x-xLVPdWTvwN"
      },
      "execution_count": null,
      "outputs": []
    },
    {
      "cell_type": "code",
      "source": [
        "len(dead)"
      ],
      "metadata": {
        "colab": {
          "base_uri": "https://localhost:8080/"
        },
        "id": "56ySNSbIUNob",
        "outputId": "a9bc12b0-59b5-4060-94b0-f0d64a46a873"
      },
      "execution_count": null,
      "outputs": [
        {
          "output_type": "execute_result",
          "data": {
            "text/plain": [
              "6557"
            ]
          },
          "metadata": {},
          "execution_count": 644
        }
      ]
    },
    {
      "cell_type": "code",
      "source": [
        "data_more['cause_A'][1]"
      ],
      "metadata": {
        "colab": {
          "base_uri": "https://localhost:8080/"
        },
        "id": "EdnIe_Aj4eKo",
        "outputId": "59612372-2605-4c96-a73d-bf30aa7a539d"
      },
      "execution_count": null,
      "outputs": [
        {
          "output_type": "execute_result",
          "data": {
            "text/plain": [
              "0"
            ]
          },
          "metadata": {},
          "execution_count": 645
        }
      ]
    },
    {
      "cell_type": "markdown",
      "source": [
        "## เอาข้อมูลจัดกลุ่ม ที่พร้อมทำ association rulesเเละ"
      ],
      "metadata": {
        "id": "bUvrDLQU2GCR"
      }
    },
    {
      "cell_type": "code",
      "source": [
        "new1=data_more[['cause_A','cause_D']].replace(0,np.nan)"
      ],
      "metadata": {
        "id": "8jSiG3feFT1F"
      },
      "execution_count": null,
      "outputs": []
    },
    {
      "cell_type": "code",
      "source": [
        "newk =[]\n",
        "for i in range(len(new1['cause_D'])):\n",
        "  if (new1['cause_D'][i] == 'เกิดจากตนเอง' ) :\n",
        "    newk.append('0')\n",
        "  elif (new1['cause_D'][i] == 'เกิดจากคนอื่น' ) :\n",
        "    newk.append('1')\n",
        "  elif (new1['cause_D'][i] == 'เกิดจากสภาพเเวดล้อมเเละรถ' ) :\n",
        "    newk.append('2')\n",
        "  else:\n",
        "    newk.append(np.nan)"
      ],
      "metadata": {
        "id": "DfW-8kNbM6t4"
      },
      "execution_count": null,
      "outputs": []
    },
    {
      "cell_type": "code",
      "source": [
        "data_association_rules=[]\n",
        "for i in range(len(data_more['cause_A'])):\n",
        "  x = new1['cause_A'][i]\n",
        "  data_association_rules.append(x)"
      ],
      "metadata": {
        "id": "LLqiBp3g2ZRi"
      },
      "execution_count": null,
      "outputs": []
    },
    {
      "cell_type": "markdown",
      "source": [
        "# สร้างตารางใหม่"
      ],
      "metadata": {
        "id": "T-rW5mlVVMUK"
      }
    },
    {
      "cell_type": "code",
      "source": [
        "data_newear ={'day':day, 'month' : mon, 'year' : year, 'time':time_lable, 'road':name_road, 'weather':weather_road,'injur':injur,'cause_A':data_association_rules,'cause_D':newk,'dead':dead}\n",
        "data_new = pd.DataFrame(data_newear)"
      ],
      "metadata": {
        "id": "fiQpf2HmVPF6"
      },
      "execution_count": null,
      "outputs": []
    },
    {
      "cell_type": "code",
      "source": [
        "data_new=data_new.dropna()"
      ],
      "metadata": {
        "id": "_OL7JFVOHulT"
      },
      "execution_count": null,
      "outputs": []
    },
    {
      "cell_type": "code",
      "source": [
        "data_new.to_excel('use_data.xlsx')"
      ],
      "metadata": {
        "id": "UriC3-SsP2k7"
      },
      "execution_count": null,
      "outputs": []
    }
  ]
}